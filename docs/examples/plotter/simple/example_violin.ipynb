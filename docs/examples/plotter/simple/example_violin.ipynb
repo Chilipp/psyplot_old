{
 "cells": [
  {
   "cell_type": "markdown",
   "metadata": {},
   "source": [
    "Violin plot demo\n",
    "=========\n",
    "This example shows you how to make a violin plot using the `psyplot.project.ProjectPlotter.violinplot` method."
   ]
  },
  {
   "cell_type": "code",
   "execution_count": null,
   "metadata": {
    "collapsed": true
   },
   "outputs": [],
   "source": [
    "import psyplot.project as psy\n",
    "%matplotlib inline\n",
    "%config InlineBackend.close_figures = False"
   ]
  },
  {
   "cell_type": "code",
   "execution_count": null,
   "metadata": {
    "collapsed": false
   },
   "outputs": [],
   "source": [
    "axes = iter(psy.multiple_subplots(2, 2, n=3))\n",
    "for var in ['t2m', 'u', 'v']:\n",
    "    psy.plot.violinplot(\n",
    "        'demo.nc',  # netCDF file storing the data\n",
    "        name=var, # one plot for each variable\n",
    "        t=range(5),  # one violin plot for each time step\n",
    "        z=0, x=0,      # choose latitude and longitude as dimensions\n",
    "        ylabel=\"{desc}\",  # use the longname and units on the y-axis\n",
    "        ax=next(axes),\n",
    "        color='coolwarm', legend=False,\n",
    "        xticklabels='%B %Y'  # choose xaxis labels to use month and year info,\n",
    "    )\n",
    "violins = psy.gcp(True)\n",
    "violins.show()"
   ]
  },
  {
   "cell_type": "code",
   "execution_count": null,
   "metadata": {
    "collapsed": true
   },
   "outputs": [],
   "source": [
    "violins.close(True, True)"
   ]
  }
 ],
 "metadata": {
  "kernelspec": {
   "display_name": "Python 2",
   "language": "python",
   "name": "python2"
  },
  "language_info": {
   "codemirror_mode": {
    "name": "ipython",
    "version": 2
   },
   "file_extension": ".py",
   "mimetype": "text/x-python",
   "name": "python",
   "nbconvert_exporter": "python",
   "pygments_lexer": "ipython2",
   "version": "2.7.11"
  },
  "supplementary_files": [
   "demo.nc"
  ]
 },
 "nbformat": 4,
 "nbformat_minor": 0
}
