{
 "cells": [
  {
   "cell_type": "markdown",
   "metadata": {},
   "source": [
    "Bar plot demo\n",
    "=========\n",
    "This example shows you how to make a bar plot using the `psyplot.project.ProjectPlotter.barplot` method."
   ]
  },
  {
   "cell_type": "code",
   "execution_count": null,
   "metadata": {
    "collapsed": true
   },
   "outputs": [],
   "source": [
    "import psyplot.project as psy\n",
    "%matplotlib inline\n",
    "%config InlineBackend.close_figures = False"
   ]
  },
  {
   "cell_type": "code",
   "execution_count": null,
   "metadata": {
    "collapsed": false
   },
   "outputs": [],
   "source": [
    "axes = iter(psy.multiple_subplots(2, 2, n=3))\n",
    "for var in ['t2m', 'u', 'v']:\n",
    "    psy.plot.barplot(\n",
    "        'demo.nc',  # netCDF file storing the data\n",
    "        name=var, # one plot for each variable\n",
    "        y=[0, 1],  # two bars in total\n",
    "        z=0, x=0,      # choose latitude and longitude as dimensions\n",
    "        ylabel=\"{desc}\",  # use the longname and units on the y-axis\n",
    "        ax=next(axes),\n",
    "        color='coolwarm', legend=False, xticklabels='%B %Y'\n",
    "    )\n",
    "bars = psy.gcp(True)\n",
    "bars.show()"
   ]
  },
  {
   "cell_type": "code",
   "execution_count": null,
   "metadata": {
    "collapsed": true
   },
   "outputs": [],
   "source": [
    "bars.close(True, True)"
   ]
  }
 ],
 "metadata": {
  "kernelspec": {
   "display_name": "Python 2",
   "language": "python",
   "name": "python2"
  },
  "language_info": {
   "codemirror_mode": {
    "name": "ipython",
    "version": 2
   },
   "file_extension": ".py",
   "mimetype": "text/x-python",
   "name": "python",
   "nbconvert_exporter": "python",
   "pygments_lexer": "ipython2",
   "version": "2.7.11"
  },
  "supplementary_files": [
   "demo.nc"
  ]
 },
 "nbformat": 4,
 "nbformat_minor": 0
}
