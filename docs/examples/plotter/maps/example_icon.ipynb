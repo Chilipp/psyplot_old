{
 "cells": [
  {
   "cell_type": "markdown",
   "metadata": {},
   "source": [
    "Visualizing unstructured data\n",
    "==========\n",
    "Demo script to show all basic plot types on the map.\n",
    "\n",
    "This example requires the file ```'icon_grid_demo.nc'``` which contains one variable for the temperature, one for zonal and one for the meridional wind direction."
   ]
  },
  {
   "cell_type": "code",
   "execution_count": null,
   "metadata": {
    "collapsed": true
   },
   "outputs": [],
   "source": [
    "import psyplot.project as psy\n",
    "%matplotlib inline\n",
    "%config InlineBackend.close_figures = False"
   ]
  },
  {
   "cell_type": "markdown",
   "metadata": {},
   "source": [
    "The visualization works the same way as for a usual rectangular grid. We furthermore choose a robinson projection and a colormap ranging from blue to red."
   ]
  },
  {
   "cell_type": "code",
   "execution_count": null,
   "metadata": {
    "collapsed": false
   },
   "outputs": [],
   "source": [
    "maps = psy.plot.mapplot('icon_grid_demo.nc', name='t2m', projection='robin', \n",
    "                        cmap='RdBu_r')"
   ]
  },
  {
   "cell_type": "markdown",
   "metadata": {},
   "source": [
    "To display the data grid, we can use the `datagrid` formatoption. We furthermore restrict ourselves to `Europe` for this visualization."
   ]
  },
  {
   "cell_type": "code",
   "execution_count": null,
   "metadata": {
    "collapsed": false
   },
   "outputs": [],
   "source": [
    "maps.update(lonlatbox='Europe', datagrid='k-')\n",
    "maps.show()"
   ]
  },
  {
   "cell_type": "markdown",
   "metadata": {},
   "source": [
    "The same works for vector data"
   ]
  },
  {
   "cell_type": "code",
   "execution_count": null,
   "metadata": {
    "collapsed": false
   },
   "outputs": [],
   "source": [
    "vectors = psy.plot.mapvector(\n",
    "    'icon_grid_demo.nc', name=[['u', 'v']] * 2, projection='robin', \n",
    "    ax=(1, 2), lonlatbox='Europe')\n",
    "vectors[0].update(arrowsize=100)\n",
    "vectors[1].update(plot='stream')"
   ]
  },
  {
   "cell_type": "markdown",
   "metadata": {},
   "source": [
    "And combined scalar and vector fields"
   ]
  },
  {
   "cell_type": "code",
   "execution_count": null,
   "metadata": {
    "collapsed": false
   },
   "outputs": [],
   "source": [
    "combined = psy.plot.mapcombined(\n",
    "    'icon_grid_demo.nc', name=[['t2m', ['u', 'v']]], projection='robin',\n",
    "    lonlatbox='Europe', arrowsize=100, cmap='RdBu_r')"
   ]
  },
  {
   "cell_type": "code",
   "execution_count": null,
   "metadata": {
    "collapsed": true
   },
   "outputs": [],
   "source": [
    "psy.gcp(True).close(True, True)"
   ]
  }
 ],
 "metadata": {
  "kernelspec": {
   "display_name": "Python 3",
   "language": "python",
   "name": "python3"
  },
  "language_info": {
   "codemirror_mode": {
    "name": "ipython",
    "version": 3
   },
   "file_extension": ".py",
   "mimetype": "text/x-python",
   "name": "python",
   "nbconvert_exporter": "python",
   "pygments_lexer": "ipython3",
   "version": "3.5.2"
  },
  "supplementary_files": [
   "icon_grid_demo.nc"
  ]
 },
 "nbformat": 4,
 "nbformat_minor": 0
}
