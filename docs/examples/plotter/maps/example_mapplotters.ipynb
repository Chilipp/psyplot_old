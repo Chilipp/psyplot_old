{
 "cells": [
  {
   "cell_type": "markdown",
   "metadata": {},
   "source": [
    "Basic data visualization on a map\n",
    "==========\n",
    "Demo script to show all basic plot types on the map.\n",
    "\n",
    "This example requires the file ```'demo.nc'``` which contains one variable for the temperature, one for zonal and one for the meridional wind direction."
   ]
  },
  {
   "cell_type": "code",
   "execution_count": null,
   "metadata": {
    "collapsed": true
   },
   "outputs": [],
   "source": [
    "import psyplot.project as psy\n",
    "%matplotlib inline\n",
    "%config InlineBackend.close_figures = False\n",
    "# we show the figures after they are drawn or updated. This is useful for the \n",
    "# visualization in the ipython notebook\n",
    "psy.rcParams['auto_show'] = True"
   ]
  },
  {
   "cell_type": "markdown",
   "metadata": {},
   "source": [
    "Visualizing scalar fields\n",
    "-------------\n",
    "\n",
    "The *mapplot* method visualizes scalar data on a map."
   ]
  },
  {
   "cell_type": "code",
   "execution_count": null,
   "metadata": {
    "collapsed": false
   },
   "outputs": [],
   "source": [
    "maps = psy.plot.mapplot('demo.nc', name='t2m')"
   ]
  },
  {
   "cell_type": "markdown",
   "metadata": {},
   "source": [
    "To show the colorbar label we can use the *clabel* formatoption keyword and use one of the predefined labels.\n",
    "Furthermore we can use the *cmap* formatoption to see one of the many available colormaps"
   ]
  },
  {
   "cell_type": "code",
   "execution_count": null,
   "metadata": {
    "collapsed": false
   },
   "outputs": [],
   "source": [
    "maps.update(clabel='{desc}', cmap='RdBu_r')"
   ]
  },
  {
   "cell_type": "markdown",
   "metadata": {},
   "source": [
    "Especially useful formatoption keywords are\n",
    "\n",
    "* projection: To modify the projection on which we draw\n",
    "* lonlatbox: To select only a specific slice\n",
    "* xgrid and ygrid: to disable, enable or modify the latitude-longitude grid\n",
    "\n",
    "To use an orthogonal projection, we change the projection keyword to"
   ]
  },
  {
   "cell_type": "code",
   "execution_count": null,
   "metadata": {
    "collapsed": false
   },
   "outputs": [],
   "source": [
    "maps.update(projection='ortho')"
   ]
  },
  {
   "cell_type": "markdown",
   "metadata": {},
   "source": [
    "To focus on Europe and disable the latitude-longitude grid, we can set"
   ]
  },
  {
   "cell_type": "code",
   "execution_count": null,
   "metadata": {
    "collapsed": false
   },
   "outputs": [],
   "source": [
    "maps.update(lonlatbox='Europe', xgrid=False, ygrid=False)"
   ]
  },
  {
   "cell_type": "markdown",
   "metadata": {},
   "source": [
    "There are many more formatoption keys that you can explore in the online-documentation or via"
   ]
  },
  {
   "cell_type": "code",
   "execution_count": null,
   "metadata": {
    "collapsed": false
   },
   "outputs": [],
   "source": [
    "psy.plot.mapplot.keys(grouped=True)"
   ]
  },
  {
   "cell_type": "code",
   "execution_count": null,
   "metadata": {
    "collapsed": true
   },
   "outputs": [],
   "source": [
    "maps.close()  # we close the project because we create other figures below"
   ]
  },
  {
   "cell_type": "markdown",
   "metadata": {},
   "source": [
    "Visualizing vector data\n",
    "---------------\n",
    "\n",
    "The *mapvector* method can visualize vectorized data on a map. But note that it needs a list in a list list to make the plot, where the first variable (here ```'u'```) is the wind component in the x- and the second (here ```'v'```) the wind component in the y-direction."
   ]
  },
  {
   "cell_type": "code",
   "execution_count": null,
   "metadata": {
    "collapsed": false
   },
   "outputs": [],
   "source": [
    "mapvectors = psy.plot.mapvector('demo.nc', name=[['u', 'v']], lonlatbox='Europe', arrowsize=100)"
   ]
  },
  {
   "cell_type": "markdown",
   "metadata": {},
   "source": [
    "The plotter supports all formatoptions that the *mapplot* method supports. The *plot* formatoption furthermore supplies the ```'stream'``` value in order to make a streamplot"
   ]
  },
  {
   "cell_type": "code",
   "execution_count": null,
   "metadata": {
    "collapsed": false
   },
   "outputs": [],
   "source": [
    "mapvectors.update(plot='stream', arrowsize=None)"
   ]
  },
  {
   "cell_type": "markdown",
   "metadata": {},
   "source": [
    "and we have two possibities to visualize the strength of the wind, either via the color coding"
   ]
  },
  {
   "cell_type": "code",
   "execution_count": null,
   "metadata": {
    "collapsed": false
   },
   "outputs": [],
   "source": [
    "mapvectors.update(color='absolute')"
   ]
  },
  {
   "cell_type": "markdown",
   "metadata": {},
   "source": [
    "or via the linewidth"
   ]
  },
  {
   "cell_type": "code",
   "execution_count": null,
   "metadata": {
    "collapsed": false
   },
   "outputs": [],
   "source": [
    "mapvectors.update(color='k', linewidth=['absolute', 0.5])"
   ]
  },
  {
   "cell_type": "markdown",
   "metadata": {},
   "source": [
    "The second number for the linewidth scales the linewidth of the arrows, where the default number is 1.0"
   ]
  },
  {
   "cell_type": "code",
   "execution_count": null,
   "metadata": {
    "collapsed": true
   },
   "outputs": [],
   "source": [
    "mapvectors.close()"
   ]
  },
  {
   "cell_type": "markdown",
   "metadata": {
    "collapsed": true
   },
   "source": [
    "Visualizing combined scalar and vector data\n",
    "-------------\n",
    "The *mapcombined* method can visualize a scalar field (here temperature) with overlayed vector field. This method needs 3 variables: one for the scalar field and two for the wind fields. The calling format is \n",
    "\n",
    "```python\n",
    "psy.plot.mapcombined(filename, name=[['<scalar variable name>', ['<x-vector>', '<y-vector>']]])\n",
    "```"
   ]
  },
  {
   "cell_type": "code",
   "execution_count": null,
   "metadata": {
    "collapsed": false
   },
   "outputs": [],
   "source": [
    "maps = psy.plot.mapcombined('demo.nc', name=[['t2m', ['u', 'v']]], lonlatbox='Europe', arrowsize=100)"
   ]
  },
  {
   "cell_type": "markdown",
   "metadata": {},
   "source": [
    "We can also modify the color coding etc. here, but all the formatoptions that affect the vector color coding start with ```'v'``` "
   ]
  },
  {
   "cell_type": "code",
   "execution_count": null,
   "metadata": {
    "collapsed": false
   },
   "outputs": [],
   "source": [
    "psy.plot.mapcombined.keys('colors')"
   ]
  },
  {
   "cell_type": "markdown",
   "metadata": {},
   "source": [
    "For example, let's modify the wind vector plots color coding and place a colorbar on the right side"
   ]
  },
  {
   "cell_type": "code",
   "execution_count": null,
   "metadata": {
    "collapsed": false,
    "scrolled": false
   },
   "outputs": [],
   "source": [
    "maps.update(color='absolute', cmap='viridis', vcmap='RdBu_r', vcbar='r', \n",
    "            clabel='{desc}', vclabel='Wind Speed [%(units)s]')"
   ]
  },
  {
   "cell_type": "markdown",
   "metadata": {},
   "source": [
    "Summary\n",
    "-------\n",
    "To sum it all up:\n",
    "\n",
    "* The *mapplot* method visualizes scalar fields\n",
    "* The *mapvector* method visualizes vector fiels\n",
    "* The *mapcombined* method visualizes scalar and vector fields"
   ]
  },
  {
   "cell_type": "code",
   "execution_count": null,
   "metadata": {
    "collapsed": false,
    "scrolled": false
   },
   "outputs": [],
   "source": [
    "# create the subplots\n",
    "axes = psy.multiple_subplots(2, 2, n=4, for_maps=True)\n",
    "# disable the automatic showing of the figures\n",
    "psy.rcParams['auto_show'] = False\n",
    "# create plots for the scalar fields\n",
    "maps = psy.plot.mapplot('demo.nc', name='t2m', clabel='{desc}', ax=axes[0], title='scalar field')\n",
    "# create plots for scalar and vector fields\n",
    "combined = psy.plot.mapcombined('demo.nc', name=[['t2m', ['u', 'v']]], clabel='{desc}', \n",
    "                                arrowsize=100, cmap='RdBu_r', ax=axes[1], title='scalar and vector field')\n",
    "# create two plots for vector field\n",
    "mapvectors = psy.plot.mapvector('demo.nc', name=[['u', 'v'], ['u', 'v']], ax=axes[2:])\n",
    "# where one of them shall be a stream plot\n",
    "mapvectors[0].update(arrowsize=100, title='quiver plot')\n",
    "mapvectors[1].update(plot='stream', title='stream plot')\n",
    "# now update all to a robin projection\n",
    "p = psy.gcp(True)\n",
    "with p.no_auto_update:\n",
    "    p.update(projection='robin', titlesize='x-large')\n",
    "    # and the one with the wind fields to focus on Europe\n",
    "    p[1:].update(lonlatbox='Europe')\n",
    "    p.start_update()"
   ]
  },
  {
   "cell_type": "code",
   "execution_count": null,
   "metadata": {
    "collapsed": true
   },
   "outputs": [],
   "source": [
    "psy.gcp(True).close(True, True)"
   ]
  }
 ],
 "metadata": {
  "kernelspec": {
   "display_name": "Python 2",
   "language": "python",
   "name": "python2"
  },
  "language_info": {
   "codemirror_mode": {
    "name": "ipython",
    "version": 2
   },
   "file_extension": ".py",
   "mimetype": "text/x-python",
   "name": "python",
   "nbconvert_exporter": "python",
   "pygments_lexer": "ipython2",
   "version": "2.7.11"
  },
  "supplementary_files": [
   "demo.nc"
  ]
 },
 "nbformat": 4,
 "nbformat_minor": 0
}
