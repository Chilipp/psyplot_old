{
 "cells": [
  {
   "cell_type": "markdown",
   "metadata": {
    "collapsed": true
   },
   "source": [
    "Sharing formatoptions\n",
    "=======\n",
    "This example shows you the capabilities of sharing formatoptions and what it is all about.\n",
    "\n",
    "Within the psyplot framework you can easily manage multiple plots and even have interaction between them. This is especially useful if want to compare different variables.\n",
    "\n",
    "This example requires the file ```'sharing_demo.nc'``` which contains one variable for the temperature."
   ]
  },
  {
   "cell_type": "code",
   "execution_count": null,
   "metadata": {
    "collapsed": true
   },
   "outputs": [],
   "source": [
    "import psyplot.project as psy\n",
    "%matplotlib inline\n",
    "%config InlineBackend.close_figures = False\n",
    "fname = 'sharing_demo.nc'"
   ]
  },
  {
   "cell_type": "markdown",
   "metadata": {},
   "source": [
    "First we create 4 plots into one figure, one for each time step"
   ]
  },
  {
   "cell_type": "code",
   "execution_count": null,
   "metadata": {
    "collapsed": false
   },
   "outputs": [],
   "source": [
    "maps = psy.plot.mapplot(fname, name='t2m', title='{dinfo}', ax=(2, 2), time=range(4))"
   ]
  },
  {
   "cell_type": "markdown",
   "metadata": {},
   "source": [
    "As you see, they have slightly different boundaries which can be very annoying if we want to compare them. Therefore we can share the boundaries of the colorbar. The corresponding formatoption is the *bounds* formatoption"
   ]
  },
  {
   "cell_type": "code",
   "execution_count": null,
   "metadata": {
    "collapsed": false
   },
   "outputs": [],
   "source": [
    "maps.share(keys='bounds')\n",
    "maps.show()"
   ]
  },
  {
   "cell_type": "markdown",
   "metadata": {},
   "source": [
    "Now the very first array (January 31st) shares the boundaries with all the other. Furthermore it uses their data as well to calculate the range. "
   ]
  },
  {
   "cell_type": "markdown",
   "metadata": {},
   "source": [
    "\n",
    "The sharing of formatoptions works for every formatoption key and formatoption groups."
   ]
  },
  {
   "cell_type": "code",
   "execution_count": null,
   "metadata": {
    "collapsed": false
   },
   "outputs": [],
   "source": [
    "maps[0].plotter.groups"
   ]
  },
  {
   "cell_type": "markdown",
   "metadata": {},
   "source": [
    "Suppose for example, we want to work with only the last array but have the color settings kept equal throughout each plot. For this we can share the ```'colors'``` group of the formatoption. To do this, we should first unshare the\n",
    "formatoptions currently the first one shares the boundaries with the others. "
   ]
  },
  {
   "cell_type": "code",
   "execution_count": null,
   "metadata": {
    "collapsed": false
   },
   "outputs": [],
   "source": [
    "maps.unshare(keys='bounds')\n",
    "# Now we share the color settings of the last one\n",
    "arr = maps[-1]\n",
    "maps[:-1].share(arr, keys='colors')"
   ]
  },
  {
   "cell_type": "markdown",
   "metadata": {},
   "source": [
    "If we now update any of the color formatoptions of the last array, we update them for all the others. However, the other formatoptions (in this example the *projection*) keep untouched"
   ]
  },
  {
   "cell_type": "code",
   "execution_count": null,
   "metadata": {
    "collapsed": false
   },
   "outputs": [],
   "source": [
    "arr.update(cmap='RdBu_r', projection='robin', time=4)\n",
    "maps.show()"
   ]
  },
  {
   "cell_type": "code",
   "execution_count": null,
   "metadata": {
    "collapsed": true
   },
   "outputs": [],
   "source": [
    "psy.gcp(True).close(True, True)"
   ]
  }
 ],
 "metadata": {
  "kernelspec": {
   "display_name": "Python 3",
   "language": "python",
   "name": "python3"
  },
  "language_info": {
   "codemirror_mode": {
    "name": "ipython",
    "version": 3
   },
   "file_extension": ".py",
   "mimetype": "text/x-python",
   "name": "python",
   "nbconvert_exporter": "python",
   "pygments_lexer": "ipython3",
   "version": "3.5.2"
  },
  "supplementary_files": [
   "sharing_demo.nc"
  ]
 },
 "nbformat": 4,
 "nbformat_minor": 0
}
